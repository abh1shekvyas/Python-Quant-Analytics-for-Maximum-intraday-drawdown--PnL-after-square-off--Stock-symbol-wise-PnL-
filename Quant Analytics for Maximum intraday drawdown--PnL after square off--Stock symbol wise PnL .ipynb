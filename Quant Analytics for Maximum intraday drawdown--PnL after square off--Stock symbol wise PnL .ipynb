{
 "cells": [
  {
   "cell_type": "markdown",
   "metadata": {},
   "source": [
    "You have been given 2 files :\n",
    "\n",
    "\n",
    "\n",
    "### 1. \"trades_file.csv\" : contains the intraday trades made by a trading system .\n",
    "\n",
    "column names :\n",
    "\n",
    "time -> time of trade\n",
    "\n",
    "symbol -> symbol of the instrument in which the trade is made\n",
    "\n",
    "tradeSize -> quantities traded in the symbol . tradeSize > 0 if instrument is\n",
    "\n",
    "bought and tradeSize < 0 , if the instrument is sold\n",
    "\n",
    "tradePrice -> the price at which the trade in the instrument is made\n",
    "\n",
    "### 2. \"prices_file.csv\" : contains 1 min data for the prices of all symbols\n",
    "\n",
    "column names :\n",
    "\n",
    "time -> time at which the price is recorded\n",
    "\n",
    "symbol -> symbol of the instrument\n",
    "\n",
    "price -> last traded price for the instrument\n",
    "\n",
    "\n"
   ]
  },
  {
   "cell_type": "markdown",
   "metadata": {},
   "source": [
    "\n",
    "## Task 1\n",
    "\n",
    "The trading system made the trades given in the trade file , and whatever\n",
    "position was left at 15:25:00 was squared off by the system ( Square off\n",
    "trades not included in the trades file ) . Square off means exiting the current\n",
    "position by executing opposite trade with same quantity. So if I have -3\n",
    "position in symbol A , square off trade will have +3 as trade size, with trade\n",
    "price as given in prices file. Assume that system is able to square off\n",
    "positions of all symbols at the 15:25:00 price provided in the prices\n",
    "file.Calculate the profit/loss made the trading system at the end of the day\n",
    "using information and files provided."
   ]
  },
  {
   "cell_type": "code",
   "execution_count": 143,
   "metadata": {},
   "outputs": [
    {
     "name": "stdout",
     "output_type": "stream",
     "text": [
      "Price table\n",
      "       time      symbol     price\n",
      "0  09:16:00  STOCK_5559  2158.950\n",
      "1  09:16:00  STOCK_3848  2035.325\n",
      "2  09:16:00  STOCK_3940  1970.325\n",
      "3  09:16:00  STOCK_3643  1864.125\n",
      "4  09:16:00  STOCK_3447  1772.025\n",
      "trade table\n",
      "       time      symbol  tradeSize  tradePrice\n",
      "0  09:18:29  STOCK_4487       -1.0       22.95\n",
      "1  09:18:31  STOCK_3584        4.0       21.80\n",
      "2  09:18:34  STOCK_3584       -4.0       21.65\n",
      "3  09:19:18  STOCK_4487       -2.0       19.45\n",
      "4  09:19:18  STOCK_4487       -2.0       19.45\n"
     ]
    }
   ],
   "source": [
    "import numpy as np\n",
    "import pandas as pd\n",
    "\n",
    "\n",
    "pr = pd.read_csv('Downloads/prices_file (1).csv')\n",
    "tr = pd.read_csv('Downloads/trades_file (1).csv')\n",
    "print('Price table')\n",
    "print(pr.head())\n",
    "print('trade table')\n",
    "print(tr.head())"
   ]
  },
  {
   "cell_type": "code",
   "execution_count": null,
   "metadata": {},
   "outputs": [],
   "source": []
  },
  {
   "cell_type": "code",
   "execution_count": null,
   "metadata": {},
   "outputs": [],
   "source": []
  },
  {
   "cell_type": "code",
   "execution_count": 144,
   "metadata": {},
   "outputs": [
    {
     "name": "stdout",
     "output_type": "stream",
     "text": [
      "               price\n",
      "symbol              \n",
      "STOCK_5559  2422.300\n",
      "STOCK_3848  2320.900\n",
      "STOCK_3940  2221.875\n",
      "STOCK_3643  2118.800\n",
      "STOCK_3447  2019.975\n",
      "...              ...\n",
      "STOCK_4450  1079.175\n",
      "STOCK_3138  1180.000\n",
      "STOCK_5651  1267.700\n",
      "STOCK_5998  1371.175\n",
      "STOCK_4198  1456.375\n",
      "\n",
      "[62 rows x 1 columns]\n"
     ]
    }
   ],
   "source": [
    "#assuming Start of Day PnL to be 0\n",
    "\n",
    "pnl = 0\n",
    "pr = pd.read_csv('Downloads/prices_file (1).csv')\n",
    "tr = pd.read_csv('Downloads/trades_file (1).csv')\n",
    "for i in tr.index:\n",
    "    pnl = pnl + float(tr.loc[i,['tradeSize']]) * float(tr.loc[i,['tradePrice']])\n",
    "\n",
    "    \n",
    "# pd.crosstab(symbol, [q, r], rownames=['p'], colnames=['q', 'r'])\n",
    "\n",
    "table = pd.pivot_table(tr, values='tradeSize', index=['symbol'],\n",
    "                     aggfunc=np.sum)\n",
    "pr = pr.set_index('time')\n",
    "pr1 = pr.loc['15:25:00']\n",
    "pr2 = pr1.set_index('symbol')\n",
    "print(pr2)\n",
    "\n",
    "# trying to square off the stocks according to the prices at 15:25:00 in price table\n",
    "sq = 0\n",
    "for j in table.index:\n",
    "    sq = sq + (float(-table.loc[j])) * float(pr1.set_index('symbol').loc[j])\n",
    "    \n"
   ]
  },
  {
   "cell_type": "code",
   "execution_count": null,
   "metadata": {},
   "outputs": [],
   "source": []
  },
  {
   "cell_type": "code",
   "execution_count": 145,
   "metadata": {},
   "outputs": [
    {
     "name": "stdout",
     "output_type": "stream",
     "text": [
      "3233.425000000011\n"
     ]
    }
   ],
   "source": [
    "# Final PnL after sq off\n",
    "final_pnl  = pnl + sq\n",
    "print(final_pnl)"
   ]
  },
  {
   "cell_type": "code",
   "execution_count": null,
   "metadata": {},
   "outputs": [],
   "source": []
  },
  {
   "cell_type": "code",
   "execution_count": null,
   "metadata": {},
   "outputs": [],
   "source": []
  },
  {
   "cell_type": "markdown",
   "metadata": {},
   "source": [
    "# Task 2\n",
    "\n",
    "Report the symbols with max PNL and min PNL ."
   ]
  },
  {
   "cell_type": "code",
   "execution_count": 146,
   "metadata": {},
   "outputs": [
    {
     "data": {
      "text/html": [
       "<div>\n",
       "<style scoped>\n",
       "    .dataframe tbody tr th:only-of-type {\n",
       "        vertical-align: middle;\n",
       "    }\n",
       "\n",
       "    .dataframe tbody tr th {\n",
       "        vertical-align: top;\n",
       "    }\n",
       "\n",
       "    .dataframe thead th {\n",
       "        text-align: right;\n",
       "    }\n",
       "</style>\n",
       "<table border=\"1\" class=\"dataframe\">\n",
       "  <thead>\n",
       "    <tr style=\"text-align: right;\">\n",
       "      <th></th>\n",
       "      <th>time</th>\n",
       "      <th>tradeSize</th>\n",
       "      <th>tradePrice</th>\n",
       "      <th>before_settle</th>\n",
       "    </tr>\n",
       "    <tr>\n",
       "      <th>symbol</th>\n",
       "      <th></th>\n",
       "      <th></th>\n",
       "      <th></th>\n",
       "      <th></th>\n",
       "    </tr>\n",
       "  </thead>\n",
       "  <tbody>\n",
       "    <tr>\n",
       "      <th>STOCK_4487</th>\n",
       "      <td>09:18:29</td>\n",
       "      <td>-1.0</td>\n",
       "      <td>22.95</td>\n",
       "      <td>-22.95</td>\n",
       "    </tr>\n",
       "    <tr>\n",
       "      <th>STOCK_3584</th>\n",
       "      <td>09:18:31</td>\n",
       "      <td>4.0</td>\n",
       "      <td>21.80</td>\n",
       "      <td>87.20</td>\n",
       "    </tr>\n",
       "    <tr>\n",
       "      <th>STOCK_3584</th>\n",
       "      <td>09:18:34</td>\n",
       "      <td>-4.0</td>\n",
       "      <td>21.65</td>\n",
       "      <td>-86.60</td>\n",
       "    </tr>\n",
       "    <tr>\n",
       "      <th>STOCK_4487</th>\n",
       "      <td>09:19:18</td>\n",
       "      <td>-2.0</td>\n",
       "      <td>19.45</td>\n",
       "      <td>-38.90</td>\n",
       "    </tr>\n",
       "    <tr>\n",
       "      <th>STOCK_4487</th>\n",
       "      <td>09:19:18</td>\n",
       "      <td>-2.0</td>\n",
       "      <td>19.45</td>\n",
       "      <td>-38.90</td>\n",
       "    </tr>\n",
       "    <tr>\n",
       "      <th>...</th>\n",
       "      <td>...</td>\n",
       "      <td>...</td>\n",
       "      <td>...</td>\n",
       "      <td>...</td>\n",
       "    </tr>\n",
       "    <tr>\n",
       "      <th>STOCK_3561</th>\n",
       "      <td>15:14:57</td>\n",
       "      <td>-4.0</td>\n",
       "      <td>95.05</td>\n",
       "      <td>-380.20</td>\n",
       "    </tr>\n",
       "    <tr>\n",
       "      <th>STOCK_3561</th>\n",
       "      <td>15:14:59</td>\n",
       "      <td>-1.0</td>\n",
       "      <td>95.25</td>\n",
       "      <td>-95.25</td>\n",
       "    </tr>\n",
       "    <tr>\n",
       "      <th>STOCK_3561</th>\n",
       "      <td>15:14:59</td>\n",
       "      <td>1.0</td>\n",
       "      <td>95.10</td>\n",
       "      <td>95.10</td>\n",
       "    </tr>\n",
       "    <tr>\n",
       "      <th>STOCK_3561</th>\n",
       "      <td>15:14:59</td>\n",
       "      <td>-1.0</td>\n",
       "      <td>95.05</td>\n",
       "      <td>-95.05</td>\n",
       "    </tr>\n",
       "    <tr>\n",
       "      <th>STOCK_3561</th>\n",
       "      <td>15:14:59</td>\n",
       "      <td>1.0</td>\n",
       "      <td>95.05</td>\n",
       "      <td>95.05</td>\n",
       "    </tr>\n",
       "  </tbody>\n",
       "</table>\n",
       "<p>1605 rows × 4 columns</p>\n",
       "</div>"
      ],
      "text/plain": [
       "                time  tradeSize  tradePrice  before_settle\n",
       "symbol                                                    \n",
       "STOCK_4487  09:18:29       -1.0       22.95         -22.95\n",
       "STOCK_3584  09:18:31        4.0       21.80          87.20\n",
       "STOCK_3584  09:18:34       -4.0       21.65         -86.60\n",
       "STOCK_4487  09:19:18       -2.0       19.45         -38.90\n",
       "STOCK_4487  09:19:18       -2.0       19.45         -38.90\n",
       "...              ...        ...         ...            ...\n",
       "STOCK_3561  15:14:57       -4.0       95.05        -380.20\n",
       "STOCK_3561  15:14:59       -1.0       95.25         -95.25\n",
       "STOCK_3561  15:14:59        1.0       95.10          95.10\n",
       "STOCK_3561  15:14:59       -1.0       95.05         -95.05\n",
       "STOCK_3561  15:14:59        1.0       95.05          95.05\n",
       "\n",
       "[1605 rows x 4 columns]"
      ]
     },
     "execution_count": 146,
     "metadata": {},
     "output_type": "execute_result"
    }
   ],
   "source": [
    "tr1"
   ]
  },
  {
   "cell_type": "code",
   "execution_count": 147,
   "metadata": {},
   "outputs": [
    {
     "name": "stdout",
     "output_type": "stream",
     "text": [
      "Index(['Max Pnl per Symbol : STOCK_3870'], dtype='object', name='symbol')\n",
      "Index(['Max Pnl per Symbol : STOCK_5628'], dtype='object', name='symbol')\n"
     ]
    },
    {
     "data": {
      "text/html": [
       "<div>\n",
       "<style scoped>\n",
       "    .dataframe tbody tr th:only-of-type {\n",
       "        vertical-align: middle;\n",
       "    }\n",
       "\n",
       "    .dataframe tbody tr th {\n",
       "        vertical-align: top;\n",
       "    }\n",
       "\n",
       "    .dataframe thead th {\n",
       "        text-align: right;\n",
       "    }\n",
       "</style>\n",
       "<table border=\"1\" class=\"dataframe\">\n",
       "  <thead>\n",
       "    <tr style=\"text-align: right;\">\n",
       "      <th></th>\n",
       "      <th>before_settle</th>\n",
       "      <th>squared_pnl</th>\n",
       "      <th>final_pnl_symbol_wise</th>\n",
       "    </tr>\n",
       "    <tr>\n",
       "      <th>symbol</th>\n",
       "      <th></th>\n",
       "      <th></th>\n",
       "      <th></th>\n",
       "    </tr>\n",
       "  </thead>\n",
       "  <tbody>\n",
       "    <tr>\n",
       "      <th>STOCK_3177</th>\n",
       "      <td>1443.85</td>\n",
       "      <td>-716.900</td>\n",
       "      <td>726.950</td>\n",
       "    </tr>\n",
       "    <tr>\n",
       "      <th>STOCK_3228</th>\n",
       "      <td>130.10</td>\n",
       "      <td>-1.050</td>\n",
       "      <td>129.050</td>\n",
       "    </tr>\n",
       "    <tr>\n",
       "      <th>STOCK_3439</th>\n",
       "      <td>797.75</td>\n",
       "      <td>-1116.100</td>\n",
       "      <td>-318.350</td>\n",
       "    </tr>\n",
       "    <tr>\n",
       "      <th>STOCK_3561</th>\n",
       "      <td>862.55</td>\n",
       "      <td>1207.750</td>\n",
       "      <td>2070.300</td>\n",
       "    </tr>\n",
       "    <tr>\n",
       "      <th>STOCK_3584</th>\n",
       "      <td>-36.50</td>\n",
       "      <td>-1.050</td>\n",
       "      <td>-37.550</td>\n",
       "    </tr>\n",
       "    <tr>\n",
       "      <th>STOCK_3660</th>\n",
       "      <td>0.20</td>\n",
       "      <td>0.300</td>\n",
       "      <td>0.500</td>\n",
       "    </tr>\n",
       "    <tr>\n",
       "      <th>STOCK_3870</th>\n",
       "      <td>3131.95</td>\n",
       "      <td>-158.400</td>\n",
       "      <td>2973.550</td>\n",
       "    </tr>\n",
       "    <tr>\n",
       "      <th>STOCK_3896</th>\n",
       "      <td>330.90</td>\n",
       "      <td>-4.000</td>\n",
       "      <td>326.900</td>\n",
       "    </tr>\n",
       "    <tr>\n",
       "      <th>STOCK_3979</th>\n",
       "      <td>847.15</td>\n",
       "      <td>-841.650</td>\n",
       "      <td>5.500</td>\n",
       "    </tr>\n",
       "    <tr>\n",
       "      <th>STOCK_4154</th>\n",
       "      <td>1752.15</td>\n",
       "      <td>-3.000</td>\n",
       "      <td>1749.150</td>\n",
       "    </tr>\n",
       "    <tr>\n",
       "      <th>STOCK_4487</th>\n",
       "      <td>-218.20</td>\n",
       "      <td>0.525</td>\n",
       "      <td>-217.675</td>\n",
       "    </tr>\n",
       "    <tr>\n",
       "      <th>STOCK_4548</th>\n",
       "      <td>-1041.60</td>\n",
       "      <td>4.500</td>\n",
       "      <td>-1037.100</td>\n",
       "    </tr>\n",
       "    <tr>\n",
       "      <th>STOCK_4783</th>\n",
       "      <td>-408.35</td>\n",
       "      <td>1.350</td>\n",
       "      <td>-407.000</td>\n",
       "    </tr>\n",
       "    <tr>\n",
       "      <th>STOCK_4890</th>\n",
       "      <td>-437.10</td>\n",
       "      <td>-3.250</td>\n",
       "      <td>-440.350</td>\n",
       "    </tr>\n",
       "    <tr>\n",
       "      <th>STOCK_4949</th>\n",
       "      <td>-662.35</td>\n",
       "      <td>0.250</td>\n",
       "      <td>-662.100</td>\n",
       "    </tr>\n",
       "    <tr>\n",
       "      <th>STOCK_5050</th>\n",
       "      <td>98.85</td>\n",
       "      <td>-5.750</td>\n",
       "      <td>93.100</td>\n",
       "    </tr>\n",
       "    <tr>\n",
       "      <th>STOCK_5150</th>\n",
       "      <td>-30.35</td>\n",
       "      <td>-1.250</td>\n",
       "      <td>-31.600</td>\n",
       "    </tr>\n",
       "    <tr>\n",
       "      <th>STOCK_5226</th>\n",
       "      <td>-556.25</td>\n",
       "      <td>540.800</td>\n",
       "      <td>-15.450</td>\n",
       "    </tr>\n",
       "    <tr>\n",
       "      <th>STOCK_5628</th>\n",
       "      <td>1800.10</td>\n",
       "      <td>-3526.400</td>\n",
       "      <td>-1726.300</td>\n",
       "    </tr>\n",
       "    <tr>\n",
       "      <th>STOCK_6061</th>\n",
       "      <td>55.80</td>\n",
       "      <td>-3.900</td>\n",
       "      <td>51.900</td>\n",
       "    </tr>\n",
       "  </tbody>\n",
       "</table>\n",
       "</div>"
      ],
      "text/plain": [
       "            before_settle  squared_pnl  final_pnl_symbol_wise\n",
       "symbol                                                       \n",
       "STOCK_3177        1443.85     -716.900                726.950\n",
       "STOCK_3228         130.10       -1.050                129.050\n",
       "STOCK_3439         797.75    -1116.100               -318.350\n",
       "STOCK_3561         862.55     1207.750               2070.300\n",
       "STOCK_3584         -36.50       -1.050                -37.550\n",
       "STOCK_3660           0.20        0.300                  0.500\n",
       "STOCK_3870        3131.95     -158.400               2973.550\n",
       "STOCK_3896         330.90       -4.000                326.900\n",
       "STOCK_3979         847.15     -841.650                  5.500\n",
       "STOCK_4154        1752.15       -3.000               1749.150\n",
       "STOCK_4487        -218.20        0.525               -217.675\n",
       "STOCK_4548       -1041.60        4.500              -1037.100\n",
       "STOCK_4783        -408.35        1.350               -407.000\n",
       "STOCK_4890        -437.10       -3.250               -440.350\n",
       "STOCK_4949        -662.35        0.250               -662.100\n",
       "STOCK_5050          98.85       -5.750                 93.100\n",
       "STOCK_5150         -30.35       -1.250                -31.600\n",
       "STOCK_5226        -556.25      540.800                -15.450\n",
       "STOCK_5628        1800.10    -3526.400              -1726.300\n",
       "STOCK_6061          55.80       -3.900                 51.900"
      ]
     },
     "execution_count": 147,
     "metadata": {},
     "output_type": "execute_result"
    }
   ],
   "source": [
    "tr1 = tr.set_index('symbol')\n",
    "tr1['before_settle'] = tr1['tradeSize'] * tr1['tradePrice']\n",
    "\n",
    "\n",
    "tr_before_settle = pd.pivot_table(tr1, values='before_settle', index=['symbol'],aggfunc=np.sum)\n",
    "tr_before_settle_sort = tr_before_settle.sort_index()\n",
    "\n",
    "tr_blnce_trade = pd.pivot_table(tr1, values='tradeSize', index=['symbol'],aggfunc=np.sum)\n",
    "tr_blnce_trade_sort = tr_blnce_trade.sort_index()\n",
    "pr3 = pr2[pr2.index.isin(tr_before_settle.index)]\n",
    "pr3_sort = pr3.sort_index()\n",
    "tr_before_settle_sort['squared_pnl'] = pr3_sort['price'] * (-tr_blnce_trade['tradeSize'])\n",
    "tr_before_settle_sort['final_pnl_symbol_wise'] = tr_before_settle_sort['before_settle'] + tr_before_settle_sort['squared_pnl']\n",
    "\n",
    "print('Max Pnl per Symbol : '+ tr_before_settle_sort[tr_before_settle_sort['final_pnl_symbol_wise'] == tr_before_settle_sort['final_pnl_symbol_wise'].max()].index)\n",
    "\n",
    "print('Max Pnl per Symbol : '+ tr_before_settle_sort[tr_before_settle_sort['final_pnl_symbol_wise'] == tr_before_settle_sort['final_pnl_symbol_wise'].min()].index)\n",
    "\n",
    "print(tr_before_settle_sort)"
   ]
  },
  {
   "cell_type": "code",
   "execution_count": null,
   "metadata": {},
   "outputs": [],
   "source": []
  },
  {
   "cell_type": "code",
   "execution_count": null,
   "metadata": {},
   "outputs": [],
   "source": []
  },
  {
   "cell_type": "markdown",
   "metadata": {},
   "source": [
    "# Task 3\n",
    "\n",
    "Use the 2 files to calculate the PNL at each timestamp in the prices files. Use\n",
    "that to calculate the maximum intraday drawdown . Also draw chart of\n",
    "intraday PNL ( Time vs PNL ).\n"
   ]
  },
  {
   "cell_type": "code",
   "execution_count": 1,
   "metadata": {},
   "outputs": [],
   "source": [
    "import pandas as pd\n",
    "pr = pd.read_csv('Downloads/prices_file (1).csv')\n",
    "tr = pd.read_csv('Downloads/trades_file (1).csv')"
   ]
  },
  {
   "cell_type": "code",
   "execution_count": 63,
   "metadata": {},
   "outputs": [],
   "source": [
    "#assuming Start of Day PnL to be 0\n",
    "\n",
    "pnl = 0\n",
    "pnl_list = []\n",
    "\n",
    "for q in tr.index:\n",
    "    pnl = pnl + float(tr.loc[q,['tradeSize']]) * float(tr.loc[q,['tradePrice']])\n",
    "    pnl_list.append(pnl)\n",
    "    \n",
    " "
   ]
  },
  {
   "cell_type": "code",
   "execution_count": 65,
   "metadata": {},
   "outputs": [
    {
     "data": {
      "image/png": "[encoded data removed]",
      "text/plain": [
       "<Figure size 864x360 with 1 Axes>"
      ]
     },
     "metadata": {
      "needs_background": "light"
     },
     "output_type": "display_data"
    }
   ],
   "source": [
    "#chart of intraday PNL ( Time vs PNL )\n",
    "#plotting the PnL for analysing the drawdown graphically which seems to be around 7000\n",
    "\n",
    "import numpy as np\n",
    "import matplotlib.pyplot as plt\n",
    "\n",
    "plt.figure(figsize=(12,5))\n",
    "plt.plot(tr['time'],pnl_list)\n",
    "# .plot(times, data)\n",
    "# plt.xticks(range(len(tr['time'])), tr['time'], size='small',\n",
    "#            rotation=45, horizontalalignment='center')\n",
    "plt.xticks(np.arange(0, len(tr['time'])+1, 130))\n",
    "\n",
    "plt.show()"
   ]
  },
  {
   "cell_type": "code",
   "execution_count": 60,
   "metadata": {},
   "outputs": [
    {
     "data": {
      "text/plain": [
       "[64.25, -22.349999999999994, -61.24999999999999, -100.14999999999999, -179.55]"
      ]
     },
     "execution_count": 60,
     "metadata": {},
     "output_type": "execute_result"
    }
   ],
   "source": [
    "pnl_list[1:6]"
   ]
  },
  {
   "cell_type": "code",
   "execution_count": 61,
   "metadata": {},
   "outputs": [],
   "source": [
    "#Creating a list of drawdowns that can be used to get the maximum drawdown\n",
    "# Note that this list will not provide us the day-wise drawdowns\n",
    "\n",
    "list_ddwn = []\n",
    "for i in range(1, len(pnl_list)):\n",
    "    val = max(pnl_list[0:i]) - min(pnl_list[i:len(pnl_list)])\n",
    "    list_ddwn.append(val)"
   ]
  },
  {
   "cell_type": "code",
   "execution_count": 66,
   "metadata": {},
   "outputs": [
    {
     "data": {
      "text/plain": [
       "7732.549999999997"
      ]
     },
     "execution_count": 66,
     "metadata": {},
     "output_type": "execute_result"
    }
   ],
   "source": [
    "# Extracting the maximum intraday drawdown\n",
    "\n",
    "max(list_ddwn)"
   ]
  },
  {
   "cell_type": "code",
   "execution_count": 34,
   "metadata": {},
   "outputs": [],
   "source": []
  }
 ],
 "metadata": {
  "kernelspec": {
   "display_name": "Python 3",
   "language": "python",
   "name": "python3"
  },
  "language_info": {
   "codemirror_mode": {
    "name": "ipython",
    "version": 3
   },
   "file_extension": ".py",
   "mimetype": "text/x-python",
   "name": "python",
   "nbconvert_exporter": "python",
   "pygments_lexer": "ipython3",
   "version": "3.7.6"
  }
 },
 "nbformat": 4,
 "nbformat_minor": 4
}
